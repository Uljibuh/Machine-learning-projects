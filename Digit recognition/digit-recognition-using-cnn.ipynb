{
 "cells": [
  {
   "cell_type": "code",
   "execution_count": 1,
   "id": "4b66f330",
   "metadata": {
    "_cell_guid": "b1076dfc-b9ad-4769-8c92-a6c4dae69d19",
    "_uuid": "8f2839f25d086af736a60e9eeb907d3b93b6e0e5",
    "execution": {
     "iopub.execute_input": "2022-01-15T17:26:02.177368Z",
     "iopub.status.busy": "2022-01-15T17:26:02.175529Z",
     "iopub.status.idle": "2022-01-15T17:26:02.191224Z",
     "shell.execute_reply": "2022-01-15T17:26:02.191848Z"
    },
    "papermill": {
     "duration": 0.044085,
     "end_time": "2022-01-15T17:26:02.192185",
     "exception": false,
     "start_time": "2022-01-15T17:26:02.148100",
     "status": "completed"
    },
    "tags": []
   },
   "outputs": [
    {
     "name": "stdout",
     "output_type": "stream",
     "text": [
      "/kaggle/input/digit-recognizer/sample_submission.csv\n",
      "/kaggle/input/digit-recognizer/train.csv\n",
      "/kaggle/input/digit-recognizer/test.csv\n"
     ]
    }
   ],
   "source": [
    "# This Python 3 environment comes with many helpful analytics libraries installed\n",
    "# It is defined by the kaggle/python Docker image: https://github.com/kaggle/docker-python\n",
    "# For example, here's several helpful packages to load\n",
    "\n",
    "import numpy as np # linear algebra\n",
    "import pandas as pd # data processing, CSV file I/O (e.g. pd.read_csv)\n",
    "\n",
    "# Input data files are available in the read-only \"../input/\" directory\n",
    "# For example, running this (by clicking run or pressing Shift+Enter) will list all files under the input directory\n",
    "\n",
    "import os\n",
    "for dirname, _, filenames in os.walk('/kaggle/input'):\n",
    "    for filename in filenames:\n",
    "        print(os.path.join(dirname, filename))\n",
    "\n",
    "# You can write up to 20GB to the current directory (/kaggle/working/) that gets preserved as output when you create a version using \"Save & Run All\" \n",
    "# You can also write temporary files to /kaggle/temp/, but they won't be saved outside of the current session"
   ]
  },
  {
   "cell_type": "markdown",
   "id": "a6fb7132",
   "metadata": {
    "papermill": {
     "duration": 0.021994,
     "end_time": "2022-01-15T17:26:02.236784",
     "exception": false,
     "start_time": "2022-01-15T17:26:02.214790",
     "status": "completed"
    },
    "tags": []
   },
   "source": [
    "**Work Flow**\n",
    "\n",
    "**1, brief introdcution of CNN**\n",
    "\n",
    "this is a 5 layers sequential convolutional neural network for digit recognition trained on MNIST dataset\n",
    "\n",
    "**2, Data preparation**\n",
    "\n",
    "load data\n",
    "check for null and missing values\n",
    "normalization\n",
    "reshape\n",
    "label encoding\n",
    "split training and validation set**\n",
    "\n",
    "**3, CNN**\n",
    "\n",
    "define the model\n",
    "set the optimizer and annealer\n",
    "data augmentation**\n",
    "\n",
    "**4, Evaluate the model**\n",
    "\n",
    "training and validation curves\n",
    "confusion matrix**\n",
    "\n",
    "**5, prediction and submition**\n",
    "predict and submit result\n",
    "\n",
    "\n",
    "\n",
    "\n",
    "\n"
   ]
  },
  {
   "cell_type": "code",
   "execution_count": 2,
   "id": "bb690c47",
   "metadata": {
    "execution": {
     "iopub.execute_input": "2022-01-15T17:26:02.289950Z",
     "iopub.status.busy": "2022-01-15T17:26:02.288646Z",
     "iopub.status.idle": "2022-01-15T17:26:09.361222Z",
     "shell.execute_reply": "2022-01-15T17:26:09.360478Z",
     "shell.execute_reply.started": "2022-01-15T16:58:26.224044Z"
    },
    "papermill": {
     "duration": 7.103086,
     "end_time": "2022-01-15T17:26:09.361376",
     "exception": false,
     "start_time": "2022-01-15T17:26:02.258290",
     "status": "completed"
    },
    "tags": []
   },
   "outputs": [],
   "source": [
    "# import packages\n",
    "import pandas as pd\n",
    "import numpy as np\n",
    "import matplotlib.pyplot as plt\n",
    "import matplotlib.image as mping\n",
    "import seaborn as sns\n",
    "%matplotlib inline\n",
    "\n",
    "np.random.seed(2)\n",
    "\n",
    "from sklearn.model_selection import train_test_split\n",
    "from sklearn.metrics import confusion_matrix\n",
    "import itertools\n",
    "\n",
    "from keras.utils.np_utils import to_categorical\n",
    "from keras.models import Sequential\n",
    "from keras.layers import Dense, Dropout, Flatten, Conv2D, MaxPool2D\n",
    "\n",
    "from tensorflow.keras.optimizers import RMSprop\n",
    "from keras.preprocessing.image import ImageDataGenerator\n",
    "from keras.callbacks import ReduceLROnPlateau\n",
    "\n",
    "sns.set(style='white', context='notebook', palette='deep')"
   ]
  },
  {
   "cell_type": "code",
   "execution_count": 3,
   "id": "afde14e2",
   "metadata": {
    "execution": {
     "iopub.execute_input": "2022-01-15T17:26:09.410242Z",
     "iopub.status.busy": "2022-01-15T17:26:09.409597Z",
     "iopub.status.idle": "2022-01-15T17:26:15.673414Z",
     "shell.execute_reply": "2022-01-15T17:26:15.672625Z",
     "shell.execute_reply.started": "2022-01-15T16:58:29.205278Z"
    },
    "papermill": {
     "duration": 6.290429,
     "end_time": "2022-01-15T17:26:15.673562",
     "exception": false,
     "start_time": "2022-01-15T17:26:09.383133",
     "status": "completed"
    },
    "tags": []
   },
   "outputs": [],
   "source": [
    "# Load the data\n",
    "\n",
    "train = pd.read_csv(\"/kaggle/input/digit-recognizer/train.csv\")\n",
    "test = pd.read_csv(\"/kaggle/input/digit-recognizer/test.csv\")"
   ]
  },
  {
   "cell_type": "code",
   "execution_count": 4,
   "id": "39782af5",
   "metadata": {
    "execution": {
     "iopub.execute_input": "2022-01-15T17:26:15.729529Z",
     "iopub.status.busy": "2022-01-15T17:26:15.728517Z",
     "iopub.status.idle": "2022-01-15T17:26:16.231231Z",
     "shell.execute_reply": "2022-01-15T17:26:16.230616Z",
     "shell.execute_reply.started": "2022-01-15T16:58:36.927166Z"
    },
    "papermill": {
     "duration": 0.534631,
     "end_time": "2022-01-15T17:26:16.231398",
     "exception": false,
     "start_time": "2022-01-15T17:26:15.696767",
     "status": "completed"
    },
    "tags": []
   },
   "outputs": [
    {
     "name": "stderr",
     "output_type": "stream",
     "text": [
      "/opt/conda/lib/python3.7/site-packages/seaborn/_decorators.py:43: FutureWarning: Pass the following variable as a keyword arg: x. From version 0.12, the only valid positional argument will be `data`, and passing other arguments without an explicit keyword will result in an error or misinterpretation.\n",
      "  FutureWarning\n"
     ]
    },
    {
     "data": {
      "text/plain": [
       "1    4684\n",
       "7    4401\n",
       "3    4351\n",
       "9    4188\n",
       "2    4177\n",
       "6    4137\n",
       "0    4132\n",
       "4    4072\n",
       "8    4063\n",
       "5    3795\n",
       "Name: label, dtype: int64"
      ]
     },
     "execution_count": 4,
     "metadata": {},
     "output_type": "execute_result"
    },
    {
     "data": {
      "image/png": "[encoded data removed]",
      "text/plain": [
       "<Figure size 432x288 with 1 Axes>"
      ]
     },
     "metadata": {},
     "output_type": "display_data"
    }
   ],
   "source": [
    "Y_train = train[\"label\"]\n",
    "\n",
    "# Drop 'label' column\n",
    "X_train = train.drop(labels = [\"label\"],axis = 1) \n",
    "\n",
    "# free some space\n",
    "del train \n",
    "\n",
    "g = sns.countplot(Y_train)\n",
    "\n",
    "Y_train.value_counts()"
   ]
  },
  {
   "cell_type": "code",
   "execution_count": 5,
   "id": "36d4ed24",
   "metadata": {
    "execution": {
     "iopub.execute_input": "2022-01-15T17:26:16.286556Z",
     "iopub.status.busy": "2022-01-15T17:26:16.284465Z",
     "iopub.status.idle": "2022-01-15T17:26:16.304473Z",
     "shell.execute_reply": "2022-01-15T17:26:16.303923Z",
     "shell.execute_reply.started": "2022-01-15T16:58:40.985834Z"
    },
    "papermill": {
     "duration": 0.049775,
     "end_time": "2022-01-15T17:26:16.304640",
     "exception": false,
     "start_time": "2022-01-15T17:26:16.254865",
     "status": "completed"
    },
    "tags": []
   },
   "outputs": [
    {
     "data": {
      "text/plain": [
       "<bound method NDFrame.describe of pixel0      False\n",
       "pixel1      False\n",
       "pixel2      False\n",
       "pixel3      False\n",
       "pixel4      False\n",
       "            ...  \n",
       "pixel779    False\n",
       "pixel780    False\n",
       "pixel781    False\n",
       "pixel782    False\n",
       "pixel783    False\n",
       "Length: 784, dtype: bool>"
      ]
     },
     "execution_count": 5,
     "metadata": {},
     "output_type": "execute_result"
    }
   ],
   "source": [
    "# check the data\n",
    "\n",
    "X_train.isnull().any().describe"
   ]
  },
  {
   "cell_type": "code",
   "execution_count": 6,
   "id": "d82cba90",
   "metadata": {
    "execution": {
     "iopub.execute_input": "2022-01-15T17:26:16.358428Z",
     "iopub.status.busy": "2022-01-15T17:26:16.357534Z",
     "iopub.status.idle": "2022-01-15T17:26:16.372144Z",
     "shell.execute_reply": "2022-01-15T17:26:16.371583Z",
     "shell.execute_reply.started": "2022-01-15T16:58:43.905303Z"
    },
    "papermill": {
     "duration": 0.044023,
     "end_time": "2022-01-15T17:26:16.372298",
     "exception": false,
     "start_time": "2022-01-15T17:26:16.328275",
     "status": "completed"
    },
    "tags": []
   },
   "outputs": [
    {
     "data": {
      "text/plain": [
       "<bound method NDFrame.describe of pixel0      False\n",
       "pixel1      False\n",
       "pixel2      False\n",
       "pixel3      False\n",
       "pixel4      False\n",
       "            ...  \n",
       "pixel779    False\n",
       "pixel780    False\n",
       "pixel781    False\n",
       "pixel782    False\n",
       "pixel783    False\n",
       "Length: 784, dtype: bool>"
      ]
     },
     "execution_count": 6,
     "metadata": {},
     "output_type": "execute_result"
    }
   ],
   "source": [
    "test.isnull().any().describe"
   ]
  },
  {
   "cell_type": "markdown",
   "id": "f5e3196f",
   "metadata": {
    "papermill": {
     "duration": 0.02583,
     "end_time": "2022-01-15T17:26:16.422644",
     "exception": false,
     "start_time": "2022-01-15T17:26:16.396814",
     "status": "completed"
    },
    "tags": []
   },
   "source": [
    "we do not have any misssing values and null in our training and test dataset."
   ]
  },
  {
   "cell_type": "code",
   "execution_count": 7,
   "id": "0bf924a1",
   "metadata": {
    "execution": {
     "iopub.execute_input": "2022-01-15T17:26:16.482625Z",
     "iopub.status.busy": "2022-01-15T17:26:16.481303Z",
     "iopub.status.idle": "2022-01-15T17:26:16.600805Z",
     "shell.execute_reply": "2022-01-15T17:26:16.600198Z",
     "shell.execute_reply.started": "2022-01-15T16:58:47.005376Z"
    },
    "papermill": {
     "duration": 0.154256,
     "end_time": "2022-01-15T17:26:16.600987",
     "exception": false,
     "start_time": "2022-01-15T17:26:16.446731",
     "status": "completed"
    },
    "tags": []
   },
   "outputs": [],
   "source": [
    "# normalize the data\n",
    "# standardazing the pixel value form zero to one\n",
    "X_train = X_train/255.0\n",
    "test = test/255.0"
   ]
  },
  {
   "cell_type": "code",
   "execution_count": 8,
   "id": "daed847c",
   "metadata": {
    "execution": {
     "iopub.execute_input": "2022-01-15T17:26:16.653110Z",
     "iopub.status.busy": "2022-01-15T17:26:16.652427Z",
     "iopub.status.idle": "2022-01-15T17:26:16.656989Z",
     "shell.execute_reply": "2022-01-15T17:26:16.657492Z",
     "shell.execute_reply.started": "2022-01-15T16:58:50.133725Z"
    },
    "papermill": {
     "duration": 0.032619,
     "end_time": "2022-01-15T17:26:16.657680",
     "exception": false,
     "start_time": "2022-01-15T17:26:16.625061",
     "status": "completed"
    },
    "tags": []
   },
   "outputs": [],
   "source": [
    "# reshape the data\n",
    "# train and test images (28x28) in panda dataframe tranfromed as 1d vector \n",
    "# of 784 values, we reshape all data to 28x28x1 matrices # 1 is for channels\n",
    "# if we had colorized image, the channels will be 3, in our case, we have gray image.\n",
    "\n",
    "X_train = X_train.values.reshape(-1,28,28,1)\n",
    "\n",
    "test = test.values.reshape(-1,28,28,1)\n",
    "\n",
    "\n"
   ]
  },
  {
   "cell_type": "code",
   "execution_count": 9,
   "id": "3bb75c4b",
   "metadata": {
    "execution": {
     "iopub.execute_input": "2022-01-15T17:26:16.713688Z",
     "iopub.status.busy": "2022-01-15T17:26:16.712937Z",
     "iopub.status.idle": "2022-01-15T17:26:16.718057Z",
     "shell.execute_reply": "2022-01-15T17:26:16.717514Z",
     "shell.execute_reply.started": "2022-01-15T16:58:52.975575Z"
    },
    "papermill": {
     "duration": 0.036098,
     "end_time": "2022-01-15T17:26:16.718219",
     "exception": false,
     "start_time": "2022-01-15T17:26:16.682121",
     "status": "completed"
    },
    "tags": []
   },
   "outputs": [],
   "source": [
    "# label encoding\n",
    "# encode labels to one hot vector\n",
    "# ex, 3 -> 0,0,0,0,1,0,0,0,0,0\n",
    "\n",
    "Y_tarin = to_categorical(Y_train, num_classes = 10)\n"
   ]
  },
  {
   "cell_type": "code",
   "execution_count": 10,
   "id": "802a25b7",
   "metadata": {
    "execution": {
     "iopub.execute_input": "2022-01-15T17:26:16.775967Z",
     "iopub.status.busy": "2022-01-15T17:26:16.774564Z",
     "iopub.status.idle": "2022-01-15T17:26:17.179850Z",
     "shell.execute_reply": "2022-01-15T17:26:17.179224Z",
     "shell.execute_reply.started": "2022-01-15T16:58:55.797929Z"
    },
    "papermill": {
     "duration": 0.437898,
     "end_time": "2022-01-15T17:26:17.180046",
     "exception": false,
     "start_time": "2022-01-15T17:26:16.742148",
     "status": "completed"
    },
    "tags": []
   },
   "outputs": [],
   "source": [
    "# split training and validation set\n",
    "\n",
    "random_seed = 2\n",
    "\n",
    "# split the train and the validaiton set for the fitting\n",
    "\n",
    "X_train, X_val, Y_train, Y_val = train_test_split(X_train, Y_train, test_size = 0.1, random_state=random_seed)"
   ]
  },
  {
   "cell_type": "code",
   "execution_count": 11,
   "id": "cff9fa33",
   "metadata": {
    "execution": {
     "iopub.execute_input": "2022-01-15T17:26:17.273262Z",
     "iopub.status.busy": "2022-01-15T17:26:17.248537Z",
     "iopub.status.idle": "2022-01-15T17:26:17.487837Z",
     "shell.execute_reply": "2022-01-15T17:26:17.487291Z",
     "shell.execute_reply.started": "2022-01-15T16:58:58.895152Z"
    },
    "papermill": {
     "duration": 0.283384,
     "end_time": "2022-01-15T17:26:17.488039",
     "exception": false,
     "start_time": "2022-01-15T17:26:17.204655",
     "status": "completed"
    },
    "tags": []
   },
   "outputs": [
    {
     "data": {
      "image/png": "[encoded data removed]",
      "text/plain": [
       "<Figure size 432x288 with 1 Axes>"
      ]
     },
     "metadata": {},
     "output_type": "display_data"
    }
   ],
   "source": [
    "# visualising the image and looking and the label\n",
    "# some examples \n",
    "# you can change 16 to show other numbers, and last 0 means index.\n",
    "\n",
    "g = plt.imshow(X_train[16][:,:,0])"
   ]
  },
  {
   "cell_type": "markdown",
   "id": "edeb0fd2",
   "metadata": {
    "papermill": {
     "duration": 0.025289,
     "end_time": "2022-01-15T17:26:17.539312",
     "exception": false,
     "start_time": "2022-01-15T17:26:17.514023",
     "status": "completed"
    },
    "tags": []
   },
   "source": [
    "**define the model**\n",
    "\n",
    "the keras sequencial API was used\n",
    "\n",
    "the first layer is convolutional layer(Conv2D)\n",
    "32 filters were setted to two fisrt layers and 64 filter for last two one. filter is a matrix for transforming images\n",
    "\n",
    "The second important layer in CNN is the pooling (MaxPool2D) layer. This layer simply acts as a downsampling filter. It looks at the 2 neighboring pixels and picks the maximal value. These are used to reduce computational cost,\n",
    "\n",
    "Dropout is a regularization method, where a proportion of nodes in the layer are randomly ignored (setting their wieghts to zero) for each training sample. This drops randomly a propotion of the network and forces the network to learn features in a distributed way. This technique also improves generalization and reduces the overfitting.\n",
    "\n",
    "'relu' is the rectifier (activation function max(0,x). The rectifier activation function is used to add non linearity to the network.\n",
    "\n",
    "The Flatten layer is use to convert the final feature maps into a one single 1D vector. This flattening step is needed so that you can make use of fully connected layers after some convolutional/maxpool layers. It combines all the found local features of the previous convolutional layers.\n",
    "\n",
    "In the end i used the features in two fully-connected (Dense) layers which is just artificial an neural networks (ANN) classifier. In the last layer(Dense(10,activation=\"softmax\")) the net outputs distribution of probability of each class.\n",
    "\n"
   ]
  },
  {
   "cell_type": "code",
   "execution_count": 12,
   "id": "66d6542a",
   "metadata": {
    "execution": {
     "iopub.execute_input": "2022-01-15T17:26:17.600886Z",
     "iopub.status.busy": "2022-01-15T17:26:17.600200Z",
     "iopub.status.idle": "2022-01-15T17:26:17.781965Z",
     "shell.execute_reply": "2022-01-15T17:26:17.782603Z",
     "shell.execute_reply.started": "2022-01-15T16:59:03.005505Z"
    },
    "papermill": {
     "duration": 0.218297,
     "end_time": "2022-01-15T17:26:17.782812",
     "exception": false,
     "start_time": "2022-01-15T17:26:17.564515",
     "status": "completed"
    },
    "tags": []
   },
   "outputs": [
    {
     "name": "stderr",
     "output_type": "stream",
     "text": [
      "\n",
      "User settings:\n",
      "\n",
      "   KMP_AFFINITY=granularity=fine,verbose,compact,1,0\n",
      "   KMP_BLOCKTIME=0\n",
      "   KMP_DUPLICATE_LIB_OK=True\n",
      "   KMP_INIT_AT_FORK=FALSE\n",
      "   KMP_SETTINGS=1\n",
      "   KMP_WARNINGS=0\n",
      "\n",
      "Effective settings:\n",
      "\n",
      "   KMP_ABORT_DELAY=0\n",
      "   KMP_ADAPTIVE_LOCK_PROPS='1,1024'\n",
      "   KMP_ALIGN_ALLOC=64\n",
      "   KMP_ALL_THREADPRIVATE=128\n",
      "   KMP_ATOMIC_MODE=2\n",
      "   KMP_BLOCKTIME=0\n",
      "   KMP_CPUINFO_FILE: value is not defined\n",
      "   KMP_DETERMINISTIC_REDUCTION=false\n",
      "   KMP_DEVICE_THREAD_LIMIT=2147483647\n",
      "   KMP_DISP_NUM_BUFFERS=7\n",
      "   KMP_DUPLICATE_LIB_OK=true\n",
      "   KMP_ENABLE_TASK_THROTTLING=true\n",
      "   KMP_FORCE_REDUCTION: value is not defined\n",
      "   KMP_FOREIGN_THREADS_THREADPRIVATE=true\n",
      "   KMP_FORKJOIN_BARRIER='2,2'\n",
      "   KMP_FORKJOIN_BARRIER_PATTERN='hyper,hyper'\n",
      "   KMP_GTID_MODE=3\n",
      "   KMP_HANDLE_SIGNALS=false\n",
      "   KMP_HOT_TEAMS_MAX_LEVEL=1\n",
      "   KMP_HOT_TEAMS_MODE=0\n",
      "   KMP_INIT_AT_FORK=true\n",
      "   KMP_LIBRARY=throughput\n",
      "   KMP_LOCK_KIND=queuing\n",
      "   KMP_MALLOC_POOL_INCR=1M\n",
      "   KMP_NUM_LOCKS_IN_BLOCK=1\n",
      "   KMP_PLAIN_BARRIER='2,2'\n",
      "   KMP_PLAIN_BARRIER_PATTERN='hyper,hyper'\n",
      "   KMP_REDUCTION_BARRIER='1,1'\n",
      "   KMP_REDUCTION_BARRIER_PATTERN='hyper,hyper'\n",
      "   KMP_SCHEDULE='static,balanced;guided,iterative'\n",
      "   KMP_SETTINGS=true\n",
      "   KMP_SPIN_BACKOFF_PARAMS='4096,100'\n",
      "   KMP_STACKOFFSET=64\n",
      "   KMP_STACKPAD=0\n",
      "   KMP_STACKSIZE=8M\n",
      "   KMP_STORAGE_MAP=false\n",
      "   KMP_TASKING=2\n",
      "   KMP_TASKLOOP_MIN_TASKS=0\n",
      "   KMP_TASK_STEALING_CONSTRAINT=1\n",
      "   KMP_TEAMS_THREAD_LIMIT=4\n",
      "   KMP_TOPOLOGY_METHOD=all\n",
      "   KMP_USE_YIELD=1\n",
      "   KMP_VERSION=false\n",
      "   KMP_WARNINGS=false\n",
      "   OMP_AFFINITY_FORMAT='OMP: pid %P tid %i thread %n bound to OS proc set {%A}'\n",
      "   OMP_ALLOCATOR=omp_default_mem_alloc\n",
      "   OMP_CANCELLATION=false\n",
      "   OMP_DEFAULT_DEVICE=0\n",
      "   OMP_DISPLAY_AFFINITY=false\n",
      "   OMP_DISPLAY_ENV=false\n",
      "   OMP_DYNAMIC=false\n",
      "   OMP_MAX_ACTIVE_LEVELS=1\n",
      "   OMP_MAX_TASK_PRIORITY=0\n",
      "   OMP_NESTED: deprecated; max-active-levels-var=1\n",
      "   OMP_NUM_THREADS: value is not defined\n",
      "   OMP_PLACES: value is not defined\n",
      "   OMP_PROC_BIND='intel'\n",
      "   OMP_SCHEDULE='static'\n",
      "   OMP_STACKSIZE=8M\n",
      "   OMP_TARGET_OFFLOAD=DEFAULT\n",
      "   OMP_THREAD_LIMIT=2147483647\n",
      "   OMP_WAIT_POLICY=PASSIVE\n",
      "   KMP_AFFINITY='verbose,warnings,respect,granularity=fine,compact,1,0'\n",
      "\n",
      "2022-01-15 17:26:17.633961: I tensorflow/core/common_runtime/process_util.cc:146] Creating new thread pool with default inter op setting: 2. Tune using inter_op_parallelism_threads for best performance.\n"
     ]
    }
   ],
   "source": [
    "# CNN archituecture\n",
    "# (Conv2D->relu)*2 ->(MaxPool2D -> Dropout)*2 -> Flatten ->Dense -> Dropout ->out\n",
    "\n",
    "model = Sequential()\n",
    "\n",
    "model.add(Conv2D(filters = 32, kernel_size = (5,5),padding = 'Same', \n",
    "                 activation ='relu', input_shape = (28,28,1)))\n",
    "model.add(Conv2D(filters = 32, kernel_size = (5,5),padding = 'Same', \n",
    "                 activation ='relu'))\n",
    "model.add(MaxPool2D(pool_size=(2,2)))\n",
    "model.add(Dropout(0.25))\n",
    "\n",
    "model.add(Conv2D(filters = 64, kernel_size = (3,3),padding = 'Same', \n",
    "                 activation ='relu'))\n",
    "model.add(Conv2D(filters = 64, kernel_size = (3,3),padding = 'Same', \n",
    "                 activation ='relu'))\n",
    "model.add(MaxPool2D(pool_size=(2,2), strides=(2,2)))\n",
    "model.add(Dropout(0.25))\n",
    "\n",
    "model.add(Flatten())\n",
    "model.add(Dense(256, activation = \"relu\"))\n",
    "model.add(Dropout(0.5))\n",
    "model.add(Dense(10, activation = \"softmax\"))"
   ]
  },
  {
   "cell_type": "code",
   "execution_count": 13,
   "id": "fbfd3781",
   "metadata": {
    "execution": {
     "iopub.execute_input": "2022-01-15T17:26:17.837022Z",
     "iopub.status.busy": "2022-01-15T17:26:17.836312Z",
     "iopub.status.idle": "2022-01-15T17:26:17.840125Z",
     "shell.execute_reply": "2022-01-15T17:26:17.840663Z",
     "shell.execute_reply.started": "2022-01-15T16:59:09.105966Z"
    },
    "papermill": {
     "duration": 0.032764,
     "end_time": "2022-01-15T17:26:17.840853",
     "exception": false,
     "start_time": "2022-01-15T17:26:17.808089",
     "status": "completed"
    },
    "tags": []
   },
   "outputs": [],
   "source": [
    "# set the optimizer\n",
    "# I used RMSprop, we could use Stochastic gradient decent but its slow\n",
    "\n",
    "optimizer = RMSprop(learning_rate=0.001, rho=0.9, epsilon=1e-08, decay=0.0)\n"
   ]
  },
  {
   "cell_type": "code",
   "execution_count": 14,
   "id": "827a375f",
   "metadata": {
    "execution": {
     "iopub.execute_input": "2022-01-15T17:26:17.899220Z",
     "iopub.status.busy": "2022-01-15T17:26:17.898545Z",
     "iopub.status.idle": "2022-01-15T17:26:17.909967Z",
     "shell.execute_reply": "2022-01-15T17:26:17.909286Z",
     "shell.execute_reply.started": "2022-01-15T16:59:12.696030Z"
    },
    "papermill": {
     "duration": 0.043543,
     "end_time": "2022-01-15T17:26:17.910127",
     "exception": false,
     "start_time": "2022-01-15T17:26:17.866584",
     "status": "completed"
    },
    "tags": []
   },
   "outputs": [],
   "source": [
    "#compile the model\n",
    "model.compile(optimizer = optimizer, loss = \"sparse_categorical_crossentropy\", metrics=[\"accuracy\"])"
   ]
  },
  {
   "cell_type": "markdown",
   "id": "ccb9ecc4",
   "metadata": {
    "papermill": {
     "duration": 0.024931,
     "end_time": "2022-01-15T17:26:17.960520",
     "exception": false,
     "start_time": "2022-01-15T17:26:17.935589",
     "status": "completed"
    },
    "tags": []
   },
   "source": [
    "**The LR is the step by which the optimizer walks through the 'loss landscape'. The higher LR, the bigger are the steps and the quicker is the convergence. However the sampling is very poor with an high LR and the optimizer could probably fall into a local minima.**\n",
    "\n",
    "**Its better to have a decreasing learning rate during the training to reach efficiently the global minimum of the loss function.**\n",
    "\n",
    "**To keep the advantage of the fast computation time with a high LR, i decreased the LR dynamically every X steps (epochs) depending if it is necessary (when accuracy is not improved).**\n",
    "\n",
    "**With the ReduceLROnPlateau function from Keras.callbacks, i choose to reduce the LR by half if the accuracy is not improved after 3 epochs.**"
   ]
  },
  {
   "cell_type": "code",
   "execution_count": 15,
   "id": "dee80cb8",
   "metadata": {
    "execution": {
     "iopub.execute_input": "2022-01-15T17:26:18.016993Z",
     "iopub.status.busy": "2022-01-15T17:26:18.016278Z",
     "iopub.status.idle": "2022-01-15T17:26:18.019646Z",
     "shell.execute_reply": "2022-01-15T17:26:18.019113Z",
     "shell.execute_reply.started": "2022-01-15T17:03:38.978697Z"
    },
    "papermill": {
     "duration": 0.034011,
     "end_time": "2022-01-15T17:26:18.019813",
     "exception": false,
     "start_time": "2022-01-15T17:26:17.985802",
     "status": "completed"
    },
    "tags": []
   },
   "outputs": [],
   "source": [
    "# set a learning rate amnealer\n",
    "#\n",
    "\n",
    "learning_rate_reduction = ReduceLROnPlateau(monitor='val_loss', \n",
    "                                            patience=3, \n",
    "                                            verbose=1, \n",
    "                                            factor=0.5, \n",
    "                                            min_lr=0.00001)\n"
   ]
  },
  {
   "cell_type": "code",
   "execution_count": 16,
   "id": "e120048e",
   "metadata": {
    "execution": {
     "iopub.execute_input": "2022-01-15T17:26:18.076933Z",
     "iopub.status.busy": "2022-01-15T17:26:18.076235Z",
     "iopub.status.idle": "2022-01-15T17:26:18.079589Z",
     "shell.execute_reply": "2022-01-15T17:26:18.078876Z",
     "shell.execute_reply.started": "2022-01-15T17:05:24.146040Z"
    },
    "papermill": {
     "duration": 0.033365,
     "end_time": "2022-01-15T17:26:18.079753",
     "exception": false,
     "start_time": "2022-01-15T17:26:18.046388",
     "status": "completed"
    },
    "tags": []
   },
   "outputs": [],
   "source": [
    "epochs = 5\n",
    "batch_size = 86"
   ]
  },
  {
   "cell_type": "code",
   "execution_count": 17,
   "id": "76b0eba2",
   "metadata": {
    "execution": {
     "iopub.execute_input": "2022-01-15T17:26:18.146553Z",
     "iopub.status.busy": "2022-01-15T17:26:18.145019Z",
     "iopub.status.idle": "2022-01-15T17:26:18.301610Z",
     "shell.execute_reply": "2022-01-15T17:26:18.301080Z",
     "shell.execute_reply.started": "2022-01-15T17:03:45.033565Z"
    },
    "papermill": {
     "duration": 0.190826,
     "end_time": "2022-01-15T17:26:18.301778",
     "exception": false,
     "start_time": "2022-01-15T17:26:18.110952",
     "status": "completed"
    },
    "tags": []
   },
   "outputs": [],
   "source": [
    "# With data augmentation to prevent overfitting (accuracy 0.99286)\n",
    "\n",
    "datagen = ImageDataGenerator(\n",
    "        featurewise_center=False,  # set input mean to 0 over the dataset\n",
    "        samplewise_center=False,  # set each sample mean to 0\n",
    "        featurewise_std_normalization=False,  # divide inputs by std of the dataset\n",
    "        samplewise_std_normalization=False,  # divide each input by its std\n",
    "        zca_whitening=False,  # apply ZCA whitening\n",
    "        rotation_range=10,  # randomly rotate images in the range (degrees, 0 to 180)\n",
    "        zoom_range = 0.1, # Randomly zoom image \n",
    "        width_shift_range=0.1,  # randomly shift images horizontally (fraction of total width)\n",
    "        height_shift_range=0.1,  # randomly shift images vertically (fraction of total height)\n",
    "        horizontal_flip=False,  # randomly flip images\n",
    "        vertical_flip=False)  # randomly flip images\n",
    "\n",
    "\n",
    "datagen.fit(X_train)"
   ]
  },
  {
   "cell_type": "code",
   "execution_count": 18,
   "id": "efcfa54b",
   "metadata": {
    "execution": {
     "iopub.execute_input": "2022-01-15T17:26:18.356882Z",
     "iopub.status.busy": "2022-01-15T17:26:18.356244Z",
     "iopub.status.idle": "2022-01-15T17:36:18.028992Z",
     "shell.execute_reply": "2022-01-15T17:36:18.029766Z",
     "shell.execute_reply.started": "2022-01-15T17:05:27.111422Z"
    },
    "papermill": {
     "duration": 599.703662,
     "end_time": "2022-01-15T17:36:18.030318",
     "exception": false,
     "start_time": "2022-01-15T17:26:18.326656",
     "status": "completed"
    },
    "tags": []
   },
   "outputs": [
    {
     "name": "stderr",
     "output_type": "stream",
     "text": [
      "2022-01-15 17:26:18.551327: I tensorflow/compiler/mlir/mlir_graph_optimization_pass.cc:185] None of the MLIR Optimization Passes are enabled (registered 2)\n"
     ]
    },
    {
     "name": "stdout",
     "output_type": "stream",
     "text": [
      "Epoch 1/5\n",
      "439/439 - 88s - loss: 0.4027 - accuracy: 0.8721 - val_loss: 0.0845 - val_accuracy: 0.9714\n",
      "Epoch 2/5\n",
      "439/439 - 86s - loss: 0.1242 - accuracy: 0.9626 - val_loss: 0.0436 - val_accuracy: 0.9874\n",
      "Epoch 3/5\n",
      "439/439 - 85s - loss: 0.0915 - accuracy: 0.9729 - val_loss: 0.0354 - val_accuracy: 0.9888\n",
      "Epoch 4/5\n",
      "439/439 - 86s - loss: 0.0799 - accuracy: 0.9766 - val_loss: 0.0301 - val_accuracy: 0.9900\n",
      "Epoch 5/5\n",
      "439/439 - 85s - loss: 0.0688 - accuracy: 0.9805 - val_loss: 0.0355 - val_accuracy: 0.9902\n"
     ]
    }
   ],
   "source": [
    "# fit the model \n",
    "history = model.fit(datagen.flow(X_train, Y_train, batch_size=batch_size),\n",
    "                              epochs = epochs, validation_data = (X_val,Y_val),\n",
    "                              verbose = 2, steps_per_epoch=X_train.shape[0] // batch_size\n",
    "                              , callbacks=[learning_rate_reduction])"
   ]
  },
  {
   "cell_type": "code",
   "execution_count": 19,
   "id": "1861434d",
   "metadata": {
    "execution": {
     "iopub.execute_input": "2022-01-15T17:36:18.102090Z",
     "iopub.status.busy": "2022-01-15T17:36:18.101094Z",
     "iopub.status.idle": "2022-01-15T17:36:18.871525Z",
     "shell.execute_reply": "2022-01-15T17:36:18.870255Z",
     "shell.execute_reply.started": "2022-01-15T17:08:16.189000Z"
    },
    "papermill": {
     "duration": 0.808705,
     "end_time": "2022-01-15T17:36:18.871738",
     "exception": false,
     "start_time": "2022-01-15T17:36:18.063033",
     "status": "completed"
    },
    "tags": []
   },
   "outputs": [
    {
     "data": {
      "image/png": "[encoded data removed]",
      "text/plain": [
       "<Figure size 432x288 with 2 Axes>"
      ]
     },
     "metadata": {},
     "output_type": "display_data"
    }
   ],
   "source": [
    "# plot the loss and accuracy curves for training and validation\n",
    "\n",
    "fig, ax = plt.subplots(2,1)\n",
    "ax[0].plot(history.history['loss'], color='b', label=\"Training loss\")\n",
    "ax[0].plot(history.history['val_loss'], color='r', label=\"validation loss\",axes =ax[0])\n",
    "legend = ax[0].legend(loc='best', shadow=True)\n",
    "\n",
    "ax[1].plot(history.history['accuracy'], color='b', label=\"Training accuracy\")\n",
    "ax[1].plot(history.history['val_accuracy'], color='r',label=\"Validation accuracy\")\n",
    "legend = ax[1].legend(loc='best', shadow=True)"
   ]
  },
  {
   "cell_type": "code",
   "execution_count": 20,
   "id": "3d3160cc",
   "metadata": {
    "execution": {
     "iopub.execute_input": "2022-01-15T17:36:18.971659Z",
     "iopub.status.busy": "2022-01-15T17:36:18.970592Z",
     "iopub.status.idle": "2022-01-15T17:36:18.980294Z",
     "shell.execute_reply": "2022-01-15T17:36:18.981085Z",
     "shell.execute_reply.started": "2022-01-15T17:02:37.294677Z"
    },
    "papermill": {
     "duration": 0.061789,
     "end_time": "2022-01-15T17:36:18.981355",
     "exception": false,
     "start_time": "2022-01-15T17:36:18.919566",
     "status": "completed"
    },
    "tags": []
   },
   "outputs": [],
   "source": [
    "def plot_confusion_matrix(cm, classes,\n",
    "                          normalize=False,\n",
    "                          title='Confusion matrix',\n",
    "                          cmap=plt.cm.Blues):\n",
    "    \"\"\"\n",
    "    This function prints and plots the confusion matrix.\n",
    "    Normalization can be applied by setting `normalize=True`.\n",
    "    \"\"\"\n",
    "    plt.imshow(cm, interpolation='nearest', cmap=cmap)\n",
    "    plt.title(title)\n",
    "    plt.colorbar()\n",
    "    tick_marks = np.arange(len(classes))\n",
    "    plt.xticks(tick_marks, classes, rotation=45)\n",
    "    plt.yticks(tick_marks, classes)\n",
    "\n",
    "    if normalize:\n",
    "        cm = cm.astype('float') / cm.sum(axis=1)[:, np.newaxis]\n",
    "\n",
    "    thresh = cm.max() / 2.\n",
    "    for i, j in itertools.product(range(cm.shape[0]), range(cm.shape[1])):\n",
    "        plt.text(j, i, cm[i, j],\n",
    "                 horizontalalignment=\"center\",\n",
    "                 color=\"white\" if cm[i, j] > thresh else \"black\")\n",
    "        \n",
    "    plt.tight_layout()\n",
    "    plt.ylabel('True label')\n",
    "    plt.xlabel('Predicted label');"
   ]
  },
  {
   "cell_type": "code",
   "execution_count": 21,
   "id": "4bd011c9",
   "metadata": {
    "execution": {
     "iopub.execute_input": "2022-01-15T17:36:19.075815Z",
     "iopub.status.busy": "2022-01-15T17:36:19.074796Z",
     "iopub.status.idle": "2022-01-15T17:36:19.078157Z",
     "shell.execute_reply": "2022-01-15T17:36:19.079036Z",
     "shell.execute_reply.started": "2022-01-15T17:23:43.138156Z"
    },
    "papermill": {
     "duration": 0.052348,
     "end_time": "2022-01-15T17:36:19.079301",
     "exception": false,
     "start_time": "2022-01-15T17:36:19.026953",
     "status": "completed"
    },
    "tags": []
   },
   "outputs": [],
   "source": [
    "# Predict the values from the validation dataset\n",
    "#Y_pred = model.predict(X_val)\n",
    "# Convert predictions classes to one hot vectors \n",
    "#Y_pred_classes = np.argmax(Y_pred,axis = 1) \n",
    "# Convert validation observations to one hot vectors\n",
    "#Y_true = np.argmax(Y_val,axis = 1) \n",
    "# compute the confusion matrix\n",
    "#confusion_mtx = confusion_matrix(Y_true, Y_pred_classes) \n",
    "# plot the confusion matrix\n",
    "#plot_confusion_matrix(confusion_mtx, classes = range(10))"
   ]
  },
  {
   "cell_type": "code",
   "execution_count": 22,
   "id": "0ac4aa3c",
   "metadata": {
    "execution": {
     "iopub.execute_input": "2022-01-15T17:36:19.178442Z",
     "iopub.status.busy": "2022-01-15T17:36:19.174687Z",
     "iopub.status.idle": "2022-01-15T17:36:37.832179Z",
     "shell.execute_reply": "2022-01-15T17:36:37.832698Z",
     "shell.execute_reply.started": "2022-01-15T17:24:33.823323Z"
    },
    "papermill": {
     "duration": 18.708807,
     "end_time": "2022-01-15T17:36:37.832889",
     "exception": false,
     "start_time": "2022-01-15T17:36:19.124082",
     "status": "completed"
    },
    "tags": []
   },
   "outputs": [],
   "source": [
    "# predict results\n",
    "results = model.predict(test)\n",
    "\n",
    "# select the indix with the maximum probability\n",
    "results = np.argmax(results,axis = 1)\n",
    "\n",
    "results = pd.Series(results,name=\"Label\")\n"
   ]
  },
  {
   "cell_type": "code",
   "execution_count": 23,
   "id": "4f6e0bbf",
   "metadata": {
    "execution": {
     "iopub.execute_input": "2022-01-15T17:36:37.900590Z",
     "iopub.status.busy": "2022-01-15T17:36:37.899800Z",
     "iopub.status.idle": "2022-01-15T17:36:37.964273Z",
     "shell.execute_reply": "2022-01-15T17:36:37.963656Z",
     "shell.execute_reply.started": "2022-01-15T17:24:57.497942Z"
    },
    "papermill": {
     "duration": 0.101752,
     "end_time": "2022-01-15T17:36:37.964438",
     "exception": false,
     "start_time": "2022-01-15T17:36:37.862686",
     "status": "completed"
    },
    "tags": []
   },
   "outputs": [],
   "source": [
    "submission = pd.concat([pd.Series(range(1,28001),name = \"ImageId\"),results],axis = 1)\n",
    "\n",
    "submission.to_csv(\"cnn_mnist_datagen.csv\",index=False)"
   ]
  }
 ],
 "metadata": {
  "kernelspec": {
   "display_name": "Python 3",
   "language": "python",
   "name": "python3"
  },
  "language_info": {
   "codemirror_mode": {
    "name": "ipython",
    "version": 3
   },
   "file_extension": ".py",
   "mimetype": "text/x-python",
   "name": "python",
   "nbconvert_exporter": "python",
   "pygments_lexer": "ipython3",
   "version": "3.7.12"
  },
  "papermill": {
   "default_parameters": {},
   "duration": 649.30864,
   "end_time": "2022-01-15T17:36:41.317230",
   "environment_variables": {},
   "exception": null,
   "input_path": "__notebook__.ipynb",
   "output_path": "__notebook__.ipynb",
   "parameters": {},
   "start_time": "2022-01-15T17:25:52.008590",
   "version": "2.3.3"
  }
 },
 "nbformat": 4,
 "nbformat_minor": 5
}
